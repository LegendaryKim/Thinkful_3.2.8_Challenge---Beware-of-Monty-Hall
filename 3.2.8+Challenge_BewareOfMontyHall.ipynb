{
 "cells": [
  {
   "cell_type": "markdown",
   "metadata": {},
   "source": [
    "## Solution1: Decision Tree"
   ]
  },
  {
   "cell_type": "markdown",
   "metadata": {},
   "source": [
    "If the player initially pick Door 1, and the probabilities of car placed behinde the Door $C_i$ is"
   ]
  },
  {
   "cell_type": "markdown",
   "metadata": {},
   "source": [
    "P(C_1) = P(C_2) = P(C_3) = 1/3"
   ]
  },
  {
   "cell_type": "markdown",
   "metadata": {},
   "source": [
    "First, the cases the host opens the door when the car placed behind Door 1, $C_1$ are \n",
    "1. Host opens Door 2, $H_2$: P($H_2$) = 1/2\n",
    "2. Host opens Door 3, $H_3$: P($H_3$) = 1/2\n"
   ]
  },
  {
   "cell_type": "markdown",
   "metadata": {},
   "source": [
    "However, all these cases, the player will not be able to find the car when he switches his choice, the total probability of finding car by switching = 0."
   ]
  },
  {
   "cell_type": "markdown",
   "metadata": {},
   "source": [
    "Second, the event when the car placed behind Door 2, $C_2$ is only one with the host opens Door 3.\n",
    "1. P($H_3$) = 1"
   ]
  },
  {
   "cell_type": "markdown",
   "metadata": {},
   "source": [
    "Therefore, the total probability of finding car by switching with $C_2$ is 1/3 \\* 1 = 1/3"
   ]
  },
  {
   "cell_type": "markdown",
   "metadata": {},
   "source": [
    "Lastly, with the event $C_3$, there is only one case left, the host Opens Door 2.\n",
    "1. P($H_2$) = 1"
   ]
  },
  {
   "cell_type": "markdown",
   "metadata": {},
   "source": [
    "The probability to get the car with $C_3$ is 1/3 * 1 = 1/3"
   ]
  },
  {
   "cell_type": "markdown",
   "metadata": {},
   "source": [
    "At last, the sum of total prabability with swithcing becomes \n",
    "0 + 1/3 + 1/3 = 2/3"
   ]
  },
  {
   "cell_type": "markdown",
   "metadata": {},
   "source": [
    "## Solution2: Bayes Rule"
   ]
  },
  {
   "cell_type": "markdown",
   "metadata": {},
   "source": [
    "$X_i$ means the event the player chooses Door i. $C_i$ and $H_i$ are identical definitions as prescribed. When the player initially choose Door 1, $X_1$, the conditional probabilities of the event, $H_3$ with different car positions are\n",
    "\n",
    "\n"
   ]
  },
  {
   "cell_type": "markdown",
   "metadata": {},
   "source": [
    "$P(H_3 | C_1, X_1) = 1/2$\n",
    "\n",
    "$P(H_3 | C_2, X_1) = 1$\n",
    "\n",
    "$P(H_3 | C_3, X_1) = 0$"
   ]
  },
  {
   "cell_type": "markdown",
   "metadata": {},
   "source": [
    "The probabilities of car positions are identical as\n",
    "$P(C_1) = P(C_2) = P(C_3) = 1/3$"
   ]
  },
  {
   "cell_type": "markdown",
   "metadata": {},
   "source": [
    "The probability of $H_3$, only with the $X_1$, not depending on the $C_i$ is $P(H_3|X_1) = 1/2$."
   ]
  },
  {
   "cell_type": "markdown",
   "metadata": {},
   "source": [
    "And, the $C_i$ and $X_j$ are independent event, $P(C_i, X_j) = P(C_i) P(X_j)$."
   ]
  },
  {
   "cell_type": "markdown",
   "metadata": {},
   "source": [
    "By the Bayes rule, the conditional probability of winning by switching if the player initiallity choose Door 1, $X_1$, is\n",
    "\n",
    "$$P(C_2 | H_3, X_1) = \\frac{P(C_2, H_3, X_1)}{P(H_3, X_1)} \\ \n",
    " = \\frac{P(H_3 | C_2, X_1) P(C_2, X_1)}{P(H_3|X_1) P(X_1)} = \\frac{P(H_3 | C_2, X_1) P(C_2) P(X_1)}{P(H_3|X_1) P(X_1)} = \\frac{1 \\cdot 1/3}{1/2} = 2/3$$"
   ]
  },
  {
   "cell_type": "code",
   "execution_count": null,
   "metadata": {
    "collapsed": true
   },
   "outputs": [],
   "source": []
  }
 ],
 "metadata": {
  "kernelspec": {
   "display_name": "Python 3",
   "language": "python",
   "name": "python3"
  },
  "language_info": {
   "codemirror_mode": {
    "name": "ipython",
    "version": 3
   },
   "file_extension": ".py",
   "mimetype": "text/x-python",
   "name": "python",
   "nbconvert_exporter": "python",
   "pygments_lexer": "ipython3",
   "version": "3.6.2"
  }
 },
 "nbformat": 4,
 "nbformat_minor": 2
}
